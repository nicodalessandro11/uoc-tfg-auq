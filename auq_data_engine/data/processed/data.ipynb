{
    "cells": [
        {
            "cell_type": "markdown",
            "metadata": {},
            "source": [
                "# Data Consistency Check\n",
                "\n",
                "This notebook checks if the number of neighborhoods in the processed data matches the input data for each city, indicator, and year."
            ]
        },
        {
            "cell_type": "code",
            "execution_count": 2,
            "metadata": {},
            "outputs": [],
            "source": [
                "import json\n",
                "import pandas as pd\n",
                "from pathlib import Path\n",
                "import requests\n",
                "from io import StringIO\n",
                "from collections import defaultdict"
            ]
        },
        {
            "cell_type": "code",
            "execution_count": 17,
            "metadata": {},
            "outputs": [
                {
                    "name": "stdout",
                    "output_type": "stream",
                    "text": [
                        "    indicator_def_id  year  city_id  unique_geo_ids\n",
                        "0                  1  2019        1              73\n",
                        "1                  1  2020        1              73\n",
                        "2                  1  2020        2             131\n",
                        "3                  1  2021        1              73\n",
                        "4                  1  2021        2             131\n",
                        "5                  1  2022        1              73\n",
                        "6                  1  2022        2             131\n",
                        "7                  1  2023        1              73\n",
                        "8                  1  2023        2             131\n",
                        "9                  1  2024        2             131\n",
                        "10                 2  2019        1              73\n",
                        "11                 2  2020        1              73\n",
                        "12                 2  2020        2             131\n",
                        "13                 2  2021        1              73\n",
                        "14                 2  2021        2             131\n",
                        "15                 2  2022        2             131\n",
                        "16                 2  2023        2             131\n",
                        "17                 2  2024        2             131\n",
                        "18                 3  2019        1              73\n",
                        "19                 3  2020        1              73\n",
                        "20                 3  2021        1              73\n",
                        "21                 3  2022        1              73\n",
                        "22                 4  2019        1              73\n",
                        "23                 4  2020        1              73\n",
                        "24                 4  2021        1              73\n"
                    ]
                }
            ],
            "source": [
                "import json\n",
                "import pandas as pd\n",
                "from pathlib import Path\n",
                "\n",
                "# Configuración de rutas\n",
                "BASE_DIR = Path.cwd().parent.parent\n",
                "PROCESSED_FILES = {\n",
                "    \"barcelona\": BASE_DIR / \"data/processed/insert_ready_indicators_bcn.json\",\n",
                "    \"madrid\": BASE_DIR / \"data/processed/insert_ready_indicators_madrid.json\"\n",
                "}\n",
                "\n",
                "# Cargar los archivos\n",
                "with open(PROCESSED_FILES['barcelona']) as f_bcn, open(PROCESSED_FILES['madrid']) as f_mad:\n",
                "    data_bcn = json.load(f_bcn)\n",
                "    data_mad = json.load(f_mad)\n",
                "\n",
                "# Convertir a DataFrame\n",
                "df_bcn = pd.DataFrame(data_bcn)\n",
                "df_mad = pd.DataFrame(data_mad)\n",
                "\n",
                "# Combinar ambos\n",
                "df_all = pd.concat([df_bcn, df_mad], ignore_index=True)\n",
                "\n",
                "# Agrupar y contar geo_id únicos por indicator_def_id, year, city_id\n",
                "grouped = df_all.groupby(['indicator_def_id', 'year', 'city_id'])['geo_id'].nunique().reset_index()\n",
                "grouped.rename(columns={'geo_id': 'unique_geo_ids'}, inplace=True)\n",
                "\n",
                "# Mostrar resultados\n",
                "print(grouped)"
            ]
        },
        {
            "cell_type": "code",
            "execution_count": 21,
            "metadata": {},
            "outputs": [
                {
                    "name": "stdout",
                    "output_type": "stream",
                    "text": [
                        "Barcelona:\n",
                        "- Combinaciones únicas indicator/year: 15\n",
                        "- Esperado (73 barrios por combinación): 1095\n",
                        "- Actual: 1095\n",
                        "- Completitud: 100.0%\n",
                        "\n",
                        "Madrid:\n",
                        "- Combinaciones únicas indicator/year: 10\n",
                        "- Esperado (131 barrios por combinación): 1310\n",
                        "- Actual: 1310\n",
                        "- Completitud: 100.0%\n"
                    ]
                }
            ],
            "source": [
                "import json\n",
                "import pandas as pd\n",
                "from pathlib import Path\n",
                "\n",
                "# Configuración de rutas\n",
                "BASE_DIR = Path.cwd().parent.parent\n",
                "PROCESSED_FILES = {\n",
                "    \"barcelona\": BASE_DIR / \"data/processed/insert_ready_indicators_bcn.json\",\n",
                "    \"madrid\": BASE_DIR / \"data/processed/insert_ready_indicators_madrid.json\"\n",
                "}\n",
                "\n",
                "# Cargar los archivos\n",
                "with open(PROCESSED_FILES['barcelona']) as f_bcn, open(PROCESSED_FILES['madrid']) as f_mad:\n",
                "    data_bcn = json.load(f_bcn)\n",
                "    data_mad = json.load(f_mad)\n",
                "\n",
                "# Convertir a DataFrame\n",
                "df_bcn = pd.DataFrame(data_bcn)\n",
                "df_mad = pd.DataFrame(data_mad)\n",
                "\n",
                "# === Barcelona ===\n",
                "expected_bcn = df_bcn.groupby(['indicator_def_id', 'year'])['geo_id'].nunique().reset_index()\n",
                "expected_bcn_total = expected_bcn.shape[0] * 73  # asumimos que deberían estar los 73 barrios en cada combinación\n",
                "actual_bcn_total = len(df_bcn)\n",
                "\n",
                "print(\"Barcelona:\")\n",
                "print(f\"- Combinaciones únicas indicator/year: {expected_bcn.shape[0]}\")\n",
                "print(f\"- Esperado (73 barrios por combinación): {expected_bcn_total}\")\n",
                "print(f\"- Actual: {actual_bcn_total}\")\n",
                "print(f\"- Completitud: {round(actual_bcn_total / expected_bcn_total * 100, 2)}%\")\n",
                "print()\n",
                "\n",
                "# === Madrid ===\n",
                "expected_mad = df_mad.groupby(['indicator_def_id', 'year'])['geo_id'].nunique().reset_index()\n",
                "expected_mad_total = expected_mad.shape[0] * 131  # asumimos que deberían estar los 131 barrios en cada combinación\n",
                "actual_mad_total = len(df_mad)\n",
                "\n",
                "print(\"Madrid:\")\n",
                "print(f\"- Combinaciones únicas indicator/year: {expected_mad.shape[0]}\")\n",
                "print(f\"- Esperado (131 barrios por combinación): {expected_mad_total}\")\n",
                "print(f\"- Actual: {actual_mad_total}\")\n",
                "print(f\"- Completitud: {round(actual_mad_total / expected_mad_total * 100, 2)}%\")"
            ]
        },
        {
            "cell_type": "code",
            "execution_count": 22,
            "metadata": {},
            "outputs": [
                {
                    "name": "stdout",
                    "output_type": "stream",
                    "text": [
                        "Registros en Barcelona: 1095\n",
                        "Registros en Madrid:    1310\n",
                        "TOTAL para insertar:    2405\n"
                    ]
                }
            ],
            "source": [
                "# Contar registros en cada DataFrame\n",
                "n_bcn = len(df_bcn)\n",
                "n_mad = len(df_mad)\n",
                "total = n_bcn + n_mad\n",
                "\n",
                "print(f\"Registros en Barcelona: {n_bcn}\")\n",
                "print(f\"Registros en Madrid:    {n_mad}\")\n",
                "print(f\"TOTAL para insertar:    {total}\")"
            ]
        },
        {
            "cell_type": "code",
            "execution_count": 23,
            "metadata": {},
            "outputs": [
                {
                    "name": "stdout",
                    "output_type": "stream",
                    "text": [
                        "Indicadores únicos: 4\n",
                        "Filas esperadas en la vista: 948\n"
                    ]
                }
            ],
            "source": [
                "n_indicators = df_all['indicator_def_id'].nunique()\n",
                "n_neighborhoods = 73 + 131  # 204\n",
                "n_districts = 10 + 21       # 31\n",
                "n_cities = 2\n",
                "\n",
                "expected_view_rows = n_indicators * (n_neighborhoods + n_districts + n_cities)\n",
                "\n",
                "print(f\"Indicadores únicos: {n_indicators}\")\n",
                "print(f\"Filas esperadas en la vista: {expected_view_rows}\")\n"
            ]
        },
        {
            "cell_type": "code",
            "execution_count": null,
            "metadata": {},
            "outputs": [],
            "source": []
        }
    ],
    "metadata": {
        "kernelspec": {
            "display_name": "Python 3",
            "language": "python",
            "name": "python3"
        },
        "language_info": {
            "codemirror_mode": {
                "name": "ipython",
                "version": 3
            },
            "file_extension": ".py",
            "mimetype": "text/x-python",
            "name": "python",
            "nbconvert_exporter": "python",
            "pygments_lexer": "ipython3",
            "version": "3.11.3"
        }
    },
    "nbformat": 4,
    "nbformat_minor": 4
}
